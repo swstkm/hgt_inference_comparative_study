{
 "cells": [
  {
   "cell_type": "markdown",
   "metadata": {},
   "source": [
    "# Run the HGT-inference programs \n",
    "\n",
    "It is advised to use each program script separately since those are very time consuming. For some, via multiprocessing, we can split up the work to reduce the running time. We are running these in an HPC with ~50 threads each. "
   ]
  },
  {
   "cell_type": "code",
   "execution_count": 2,
   "metadata": {},
   "outputs": [],
   "source": [
    "taxonomicID = '1236'\n",
    "data = '/root/work/projects/paper_comparative_study_of_hgt_inference_methods/data/'"
   ]
  },
  {
   "cell_type": "markdown",
   "metadata": {},
   "source": [
    "**Note:** \n",
    "\n",
    "For each of the scripts run below of the form `run_{inference_program}.py` (e.g. `run_ALE.py`), \n",
    "you can use the `-h` flag to see the help message for the script. \n",
    "\n",
    "For example, run `python run_ALE.py -h`. \n",
    "\n",
    "These scripts have are run with their default parameters. You can take a look at which exact parameters or files are being used by opening the script and looking at the exact `parser.add_argument` calls. If you want to use different files, you can prepare files with the same format as those used in the scripts and pass them as arguments to the scripts."
   ]
  },
  {
   "cell_type": "code",
   "execution_count": 2,
   "metadata": {},
   "outputs": [],
   "source": [
    "%%bash\n",
    "# make directories for programs\n",
    "mkdir -p program_runs\n",
    "cd program_runs\n",
    "mkdir -p ALE AnGST RANGER RANGER-Fast Count GLOOME_with_tree GLOOME_without_tree"
   ]
  },
  {
   "cell_type": "markdown",
   "metadata": {},
   "source": [
    "## Ranger\n",
    "\n",
    "From the manual for RANGER-DTL 2.0, the program takes as input a single file (specified using the `–i` command line option) containing first the species tree, followed by a single gene tree. All input trees must be expressed using the Newick format terminated by a semicolon, and they must be fully binary (fully resolved) and rooted. Species names in the species tree must be\n",
    "unique. E.g., ((speciesA, speciesB), speciesC);\n",
    "\n",
    "Each leaf in the gene tree must be labeled with the name of the species from which that gene was sampled. If desired, the gene name can be appended to the species name separated by an underscore `_` character. The gene tree may contain any number (zero, one, or more) of homologous genes from the same species. E.g., (((speciesA_gene1, speciesC_gene1), speciesB_geneX), speciesC_gene2);\n",
    "\n",
    "The following script (`src/run_rangerdtl.py`) runs Ranger on each of the gene trees. First it creates input files for each gene tree in our dataset by concatenating the species tree and the gene tree into one input file. Then it runs using `multiprocessing`, the program `Ranger-DTL-Fast` (from `SupplementaryPrograms/`) and `AggregateRanger` (from `CorePrograms/`) from the dir with Ranger executables. To run `AggregateRanger`, note that the output reconciliation files of Ranger-DTL-Fast needs to be of the format `{prefix}{index}` where in our case the prefix is `recon` and the indices begin with 1. The path to these output files are then provided to `AggregateRanger` by using the prefix only. See the comments in the script for more information.\n",
    "\n",
    "Run Ranger using the script `run_rangerdtl.py` in the following manner:\n",
    "```bash\n",
    "# cd RANGER\n",
    "$ nohup python ../src/run_rangerdtl.py > nohup_ranger.out & disown\n",
    "```\n",
    "\n",
    "### Ranger-Fast\n",
    "\n",
    "Run Ranger-Fast using the same script but with `--fast` flag:\n",
    "```bash\n",
    "# cd RANGER-Fast\n",
    "$ nohup python ../src/run_rangerdtl.py --fast > nohup_ranger_fast.out & disown\n",
    "```\n"
   ]
  },
  {
   "cell_type": "markdown",
   "metadata": {},
   "source": [
    "## AnGST "
   ]
  },
  {
   "cell_type": "markdown",
   "metadata": {},
   "source": [
    "AnGST needs the species tree to be rooted AND to have an additional branch length for the root (prepared in the previous step's notebook; the needed species tree file is named `*_with_root_length.nwk`).\n",
    "\n",
    "In case of any alteration of the scripts below, note that \"AnGST.py\" can only be run with python2. \n",
    "\n",
    "We need an input file for \"AnGST.py\". The input file requires to have the path to the species tree/gene tree/output/penalties. Example:"
   ]
  },
  {
   "cell_type": "raw",
   "metadata": {},
   "source": [
    "species=/path/X_species_edited_angst.nwk\n",
    "gene=/path/one_unrooted_genetree.nwk\n",
    "output=/path/output_result\n",
    "penalties=/path/penalty.file"
   ]
  },
  {
   "cell_type": "markdown",
   "metadata": {},
   "source": [
    "We create the penalty file based on the parameters suggested in the manual."
   ]
  },
  {
   "cell_type": "code",
   "execution_count": null,
   "metadata": {},
   "outputs": [],
   "source": [
    "%%bash -s \"$taxonomicID\" \"$data\"\n",
    "# create AnGST directory if it doesn't exist\n",
    "# write penalty file\n",
    "# these params were taken from the AnGST manual\n",
    "mkdir -p $2/program_runs/AnGST\n",
    "cat > ./src/angst_penalty_file.txt << EOL\n",
    "hgt: 3.0\n",
    "dup: 2.0\n",
    "los: 1.0\n",
    "spc: 0.0\n",
    "EOL"
   ]
  },
  {
   "cell_type": "markdown",
   "metadata": {},
   "source": [
    "Run AnGST using the script `run_angst.py` in the following manner:\n",
    "\n",
    "```bash\n",
    "$ cd AnGST\n",
    "# make sure you activate the python2 environment\n",
    "$ mamba activate hgt_analyses_py2\n",
    "\n",
    "# run the script\n",
    "$ nohup ~/mambaforge/envs/hgt_analyses_py2/bin/python ../src/run_angst.py > nohup_run_angst.out & disown\n",
    "```"
   ]
  },
  {
   "cell_type": "markdown",
   "metadata": {},
   "source": [
    "## ALE\n",
    "\n",
    "The script here makes use of the direct compilation of ALE (instead of using `Docker`). Run the script from a terminal, from inside the `ALE` directory inside `program runs` directory. For each gene tree, the script runs a new process where the gene tree is written to a new file, `ALEobserve` is used to create `.ale` files, and `ALEml_undated` is run to perform the reconciliation. Sometimes the ALE programs give errors for no particular reason, so the script also has a number of retries that it can perform for each of the ALE programs before giving up. Use `--help` to see the options available or the default values used.\n",
    "\n",
    "```bash\n",
    "# cd ALE\n",
    "$ nohup python ../src/run_ALE.py > run_ALE_nohup.out & disown\n",
    "```"
   ]
  },
  {
   "cell_type": "markdown",
   "metadata": {},
   "source": [
    "## GLOOME and Count\n",
    "\n",
    "The function below creates the presence-absence (PA) matrix for GLOOME, based on the PA of taxa in the NOGs of interest. We use that matrix (as a fasta file input) along with the species tree (and a separate run, without the tree), to infer gains and losses. Since Count also uses a PA matrix but in TSV format, we prepare it here itself. Note that Count requires each row to be that of a gene family (in our case, a NOG) whereas GLOOME needs each row (aka each sequence in the FASTA file) to be that of a taxon."
   ]
  },
  {
   "cell_type": "markdown",
   "metadata": {},
   "source": [
    "### GLOOME ML"
   ]
  },
  {
   "cell_type": "code",
   "execution_count": 4,
   "metadata": {},
   "outputs": [],
   "source": [
    "%%bash -s \"$taxonomicID\" \"$data\"\n",
    "cd $2/program_runs/\n",
    "# write param file that uses the rooted tree\n",
    "cat > ./GLOOME_with_tree/gloome_ml_tree.params << EOL\n",
    "_seqFile $2$1_pa_matrix.fasta\n",
    "_treeFile $2$1_wol_tree_pruned_no_internal_labels.nwk\n",
    "_gainLossDist 1\n",
    "# for COG and EggNOG only patterns with 3 or more ones are observable\n",
    "_minNumOfOnes 4\n",
    "# include Parsimony results along with ML\n",
    "_costMatrixGainLossRatio 1\n",
    "## Advanced \n",
    "_logValue 4\n",
    "_outDir Results_GLOOME_ML_with_tree\n",
    "EOL\n",
    "\n",
    "# write param file that doesn't use the rooted tree\n",
    "cat > ./GLOOME_without_tree/gloome_ml_without_tree.params << EOL\n",
    "_seqFile $2$1_pa_matrix.fasta\n",
    "_gainLossDist 1\n",
    "# for COG and EggNOG only patterns with 3 or more ones are observable\n",
    "_minNumOfOnes 4\n",
    "# include Parsimony results along with ML\n",
    "_costMatrixGainLossRatio 1\n",
    "## Advanced\n",
    "_logValue 4\n",
    "_outDir Results_GLOOME_ML_without_tree\n",
    "EOL"
   ]
  },
  {
   "cell_type": "markdown",
   "metadata": {},
   "source": [
    "Run Gloome via command line for each of the param files as input, inside GLOOME directory (`cd GLOOME`). Using `nohup`, `&`, and `disown` here because the process may take a while to finish, and I am running it remotely on a server. Processes shouldn't be affected this way, even if I logout.\n",
    "\n",
    "```bash\n",
    "nohup ~/bin/GLOOME.VR01.266 gloome_tree.params > nohup_gloome_run_with_tree.out & disown\n",
    "\n",
    "nohup ~/bin/GLOOME.VR01.266 gloome_without_tree.params > nohup_gloome_run_without_tree.out & disown\n",
    "```\n"
   ]
  },
  {
   "cell_type": "markdown",
   "metadata": {},
   "source": [
    "### GLOOME MP"
   ]
  },
  {
   "cell_type": "code",
   "execution_count": 15,
   "metadata": {},
   "outputs": [],
   "source": [
    "%%bash -s \"$taxonomicID\" \"$data\"\n",
    "# we need a params file for each iteration of the _costMatrixGainLossRatio\n",
    "# _costMatrixGainLossRatio is the ratio of the cost of a gain to the cost of a loss\n",
    "# the default is 1:1 but we want to test 0.33, 0.5, 1, 2, ..., 8\n",
    "# for each of these ratios we need to create a params file\n",
    "cd $2/program_runs/\n",
    "for costRatio in 0.33 0.5 1 2 3 4 5 6 7 8; do\n",
    "# write param file that uses the rooted tree\n",
    "cat > ./GLOOME_with_tree/gloome_tree_${costRatio}.params << EOL\n",
    "_seqFile $2$1_pa_matrix.fasta\n",
    "_treeFile $2$1_wol_tree_pruned_no_internal_labels.nwk\n",
    "_costMatrixGainLossRatio $costRatio\n",
    "_logValue 4\n",
    "_performOptimizations 0\n",
    "_outDir Results_GLOOME_MP_with_tree_$costRatio\n",
    "EOL\n",
    "\n",
    "# write param file that doesn't use the rooted tree\n",
    "cat > ./GLOOME_without_tree/gloome_without_tree_${costRatio}.params << EOL\n",
    "_seqFile $2$1_pa_matrix.fasta\n",
    "_costMatrixGainLossRatio $costRatio\n",
    "_logValue 4\n",
    "_performOptimizations 0\n",
    "_outDir Results_GLOOME_MP_without_tree_$costRatio\n",
    "EOL\n",
    "done\n"
   ]
  },
  {
   "cell_type": "markdown",
   "metadata": {},
   "source": [
    "Then run all of the GLOOME MP scripts like so:\n",
    "```bash\n",
    "cd GLOOME_with_tree\n",
    "for i in 0.33 0.5 1 2 3 4 5 6 7 8 ; do nohup ~/bin/GLOOME.VR01.266 gloome_tree_${i}.params > nohup_gloome_run_with_tree_${i}.out & disown ; done\n",
    "```\n",
    "\n",
    "```bash\n",
    "cd ../GLOOME_without_tree\n",
    "for i in 0.33 0.5 1 2 3 4 5 6 7 8 ; do nohup ~/bin/GLOOME.VR01.266 gloome_without_tree_${i}.params > nohup_gloome_run_without_tree_${i}.out & disown ; done\n",
    "```"
   ]
  },
  {
   "cell_type": "markdown",
   "metadata": {},
   "source": [
    "### Count ML"
   ]
  },
  {
   "cell_type": "markdown",
   "metadata": {},
   "source": [
    "```bash\n",
    "# cd Count/Count_ML\n",
    "nohup java -Xmx2048M -cp ~/bin/Count/Count.jar ca.umontreal.iro.evolution.genecontent.ML -v true  ../../../1236_wol_tree_pruned_with_internal_labels.nwk ../1236_pa_matrix.tsv > 1236_rates.r & disown\n",
    "# and after completing the above:\n",
    "nohup java -Xmx2048M -cp ~/bin/Count/Count.jar ca.umontreal.iro.evolution.genecontent.Posteriors ../../../1236_wol_tree_pruned_with_internal_labels.nwk ../1236_pa_matrix.tsv ./1236_rates.r  > Count_output.tsv & disown\n",
    "```"
   ]
  },
  {
   "cell_type": "markdown",
   "metadata": {},
   "source": [
    "### Count MP"
   ]
  },
  {
   "cell_type": "code",
   "execution_count": 7,
   "metadata": {},
   "outputs": [
    {
     "name": "stdout",
     "output_type": "stream",
     "text": [
      "Current working directory: /root/work/projects/paper_comparative_study_of_hgt_inference_methods/02-run_programs\n",
      "Count with gain ratio 0.33 done\n",
      "Count output for gain ratio 0.33 grepped\n",
      "Count with gain ratio 0.5 done\n",
      "Count output for gain ratio 0.5 grepped\n",
      "Count with gain ratio 1 done\n",
      "Count output for gain ratio 1 grepped\n",
      "Count with gain ratio 2 done\n",
      "Count output for gain ratio 2 grepped\n",
      "Count with gain ratio 3 done\n",
      "Count output for gain ratio 3 grepped\n",
      "Count with gain ratio 4 done\n",
      "Count output for gain ratio 4 grepped\n",
      "Count with gain ratio 5 done\n",
      "Count output for gain ratio 5 grepped\n",
      "Count with gain ratio 6 done\n",
      "Count output for gain ratio 6 grepped\n",
      "Count with gain ratio 7 done\n",
      "Count output for gain ratio 7 grepped\n",
      "Count with gain ratio 8 done\n",
      "Count output for gain ratio 8 grepped\n"
     ]
    }
   ],
   "source": [
    "%%bash -s \"$taxonomicID\" \"$data\"\n",
    "# exit if command exits with non-zero status\n",
    "set -e\n",
    "# print working directory\n",
    "echo \"Current working directory: $(pwd)\"\n",
    "# change to the directory where Count will be run\n",
    "cd ./program_runs/Count/Count_MP/\n",
    "\n",
    "# for `gain` parameter being 0.33, 0.5, 1, 2, ,.. 8, run Count\n",
    "for g in 0.33 0.5 1 2 3 4 5 6 7 8;\n",
    "do\n",
    "    # run Count\n",
    "    java -Xmx2048M -cp ~/bin/Count/Count.jar ca.umontreal.iro.evolution.genecontent.AsymmetricWagner -gain $g $2$1_wol_tree_pruned_with_internal_labels.nwk $2$1_pa_matrix.tsv > ${1}_Count_output_gain_${g}.tsv && echo \"Count with gain ratio $g done\" &&\n",
    "    # grep the output\n",
    "    grep \"# PRESENT\" ${1}_Count_output_gain_${g}.tsv > ${1}_Count_output_gain_${g}_genome_sizes.tsv &&\n",
    "    grep \"# CHANGE\" ${1}_Count_output_gain_${g}.tsv > ${1}_Count_output_gain_${g}_changes.tsv &&\n",
    "    grep \"# FAMILY\" ${1}_Count_output_gain_${g}.tsv > ${1}_Count_output_gain_${g}_families.tsv &&\n",
    "    echo \"Count output for gain ratio $g grepped\"\n",
    "done\n"
   ]
  },
  {
   "cell_type": "markdown",
   "metadata": {},
   "source": [
    "## Wn"
   ]
  },
  {
   "cell_type": "markdown",
   "metadata": {},
   "source": [
    "Wn can be run directly using the script `run_Wn.py` in the `src` directory:\n",
    "\n",
    "```bash\n",
    "cd 02-run_programs/program_runs/Wn/\n",
    "nohup ~/mambaforge/envs/hgt_analyses/bin/python ../../../02-run_programs/src/run_Wn.py > nohup_run_Wn.log & disown\n",
    "```\n",
    "\n",
    "The results will be saved by default in the `Results` directory. \n"
   ]
  }
 ],
 "metadata": {
  "kernelspec": {
   "display_name": "hgt_analyses",
   "language": "python",
   "name": "python3"
  },
  "language_info": {
   "codemirror_mode": {
    "name": "ipython",
    "version": 3
   },
   "file_extension": ".py",
   "mimetype": "text/x-python",
   "name": "python",
   "nbconvert_exporter": "python",
   "pygments_lexer": "ipython3",
   "version": "3.12.3"
  },
  "orig_nbformat": 4
 },
 "nbformat": 4,
 "nbformat_minor": 2
}
